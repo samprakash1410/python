{
 "cells": [
  {
   "cell_type": "code",
   "execution_count": 12,
   "metadata": {},
   "outputs": [
    {
     "name": "stdout",
     "output_type": "stream",
     "text": [
      "1 \n",
      "2 2 \n",
      "3 3 3 \n",
      "4 4 4 4 \n"
     ]
    }
   ],
   "source": [
    "from __future__ import print_function\n",
    "for i in range(1, 5):\n",
    "    for j in range(i):\n",
    "        print(i, end=' ')\n",
    "    print()"
   ]
  },
  {
   "cell_type": "code",
   "execution_count": 13,
   "metadata": {},
   "outputs": [
    {
     "name": "stdout",
     "output_type": "stream",
     "text": [
      "ISHIKA\n"
     ]
    }
   ],
   "source": [
    "s_org = 'ishika'\n",
    "print(s_org.upper())"
   ]
  },
  {
   "cell_type": "code",
   "execution_count": 14,
   "metadata": {},
   "outputs": [
    {
     "name": "stdout",
     "output_type": "stream",
     "text": [
      "ishika\n"
     ]
    }
   ],
   "source": [
    "s_org = 'ishika'\n",
    "print(s_org.lower())"
   ]
  },
  {
   "cell_type": "code",
   "execution_count": 21,
   "metadata": {},
   "outputs": [],
   "source": [
    "#print message\n",
    "def say_hello(sam):\n",
    "    name = input(\"What is your name? \") \n",
    "    if name == input(sam):\n",
    "        return(\"Hello,\" + sam + \"!\" )\n",
    "    else:\n",
    "        return(\"Hello there!\")"
   ]
  },
  {
   "cell_type": "code",
   "execution_count": 16,
   "metadata": {},
   "outputs": [
    {
     "name": "stdout",
     "output_type": "stream",
     "text": [
      "True\n",
      "True\n",
      "True\n",
      "True\n"
     ]
    }
   ],
   "source": [
    "#compare\n",
    "print(\"QT\" == \"QT\")\n",
    "print(\"Python\" < \"courses\")\n",
    "print(\"suzuki\" > \"car\")\n",
    "print(\"QT\" != \"Geek\")\n"
   ]
  },
  {
   "cell_type": "code",
   "execution_count": 17,
   "metadata": {},
   "outputs": [
    {
     "name": "stdout",
     "output_type": "stream",
     "text": [
      "Hello qtplayer:\n"
     ]
    }
   ],
   "source": [
    "# Defining strings\n",
    "var1 = \"Hello \"\n",
    "var2 = \"qtplayer:\"\n",
    "\n",
    "# + Operator is used to combine strings\n",
    "var3 = var1 + var2\n",
    "print(var3)\n"
   ]
  },
  {
   "cell_type": "code",
   "execution_count": 18,
   "metadata": {},
   "outputs": [
    {
     "name": "stdout",
     "output_type": "stream",
     "text": [
      "My name is NIKHILA and I am 25 years \t\t\t\t\told. 25 is my favorite \t\t\t\t\tnumber.\n"
     ]
    }
   ],
   "source": [
    "#formate\n",
    "name = \"NIKHILA\"\n",
    "age = 25\n",
    "message = \"My name is {0} and I am {1} years \\\n",
    "\t\t\t\t\told. {1} is my favorite \\\n",
    "\t\t\t\t\tnumber.\".format(name, age)\n",
    "print(message)\n"
   ]
  }
 ],
 "metadata": {
  "kernelspec": {
   "display_name": "Python 3",
   "language": "python",
   "name": "python3"
  },
  "language_info": {
   "codemirror_mode": {
    "name": "ipython",
    "version": 3
   },
   "file_extension": ".py",
   "mimetype": "text/x-python",
   "name": "python",
   "nbconvert_exporter": "python",
   "pygments_lexer": "ipython3",
   "version": "3.12.3"
  }
 },
 "nbformat": 4,
 "nbformat_minor": 2
}
